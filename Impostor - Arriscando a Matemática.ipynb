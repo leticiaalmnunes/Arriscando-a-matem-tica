{
 "cells": [
  {
   "cell_type": "markdown",
   "id": "1d8e9aff",
   "metadata": {},
   "source": [
    "# <font color=darkred><center> Arriscando a Matemática \n",
    "## <font color=darkred><center>Diâmica do Impostor\n",
    "    \n",
    "A **dinâmica do Impostor** trata-se uma atividade didática que visa trabalhar conceitos matemáticos de ensino fundamental e médio, e também o trabalho em equipe - podendo ser adaptada para o ensino superior utilizando conceitos mais complexos.\n",
    "\n",
    "A dinâmica consiste em pelo menos 3 jogadores (recomendado: de 4 a 8), que receberão conceitos matemáticos, sendo apenas um deles diferente dos demais - o chamado **Impostor**. A ideia da dinâmica é que cada jogador, na sua vez, desenhe um pequeno traço visando representar o conceito final em conjunto - entretanto, o Impostor, com seu conceito diferente, acabará atrapalhando tal tarefa sem saber. Ao final de 3 rodadas (ou quantas forem necessárias), o grupo deve descobrir qual dos jogadores era o impostor e recebeu um conceito diferente.\n",
    "    \n",
    "O divertido em tal dinâmica é que, como o impostor também recebe um conceito, nem mesmo ele sabe se cumpre tal papel, havendo uma grande tensão entre os jogadores para descobrir se são, si próprios, o Impostor. Devido a isso, o conceito do impostor pode, por exemplo, se sobressair entre os demais, gerando um resultado inesperado ao final da partida.\n",
    "\n",
    "Este caderno tem como objetivo sortear os conceitos matemáticos a serem utilizados em cada rodada da dinâmica do Impostor, desenvolvida para o Ilum de Portas Abertas. É importante ressaltar que quem deve realizar tal sorteio é o **responsável pela atividade**, que deverá apenas informar os jogadores do conceito recebido."
   ]
  },
  {
   "cell_type": "markdown",
   "id": "8fc5e385",
   "metadata": {},
   "source": [
    "### <font color=darkred> Implementando o código"
   ]
  },
  {
   "cell_type": "code",
   "execution_count": 1,
   "id": "8c468252",
   "metadata": {},
   "outputs": [],
   "source": [
    "import random as rd"
   ]
  },
  {
   "cell_type": "code",
   "execution_count": 2,
   "id": "09649516",
   "metadata": {},
   "outputs": [],
   "source": [
    "def n_jogadores():\n",
    "    while True:\n",
    "        n = input(\"Digite o número de jogadores: \")\n",
    "        try:\n",
    "            n = int(n)\n",
    "            break  # Se a conversão for bem-sucedida, sai do loop\n",
    "        except ValueError:\n",
    "            print(\"O número de jogadores deve ser um número inteiro, sem quaisquer caracteres adicionais. \")\n",
    "        \n",
    "    while n <= 2:\n",
    "        print(\"O número de jogadores deve ser maior ou igual a 3.\")\n",
    "        n = input(\"Digite o número de jogadores: \")\n",
    "        n = int(n)\n",
    "    print(\"\")\n",
    "    \n",
    "    return n"
   ]
  },
  {
   "cell_type": "code",
   "execution_count": 3,
   "id": "5aa64dcb",
   "metadata": {},
   "outputs": [],
   "source": [
    "def nivel_conceitos():\n",
    "    nivel = input(\"Qual o nível dos conceitos matemáticos? Insira 1 para ensino fundamental. Insira 2 para ensino médio. \")\n",
    "    while nivel not in ['1', '2']:\n",
    "        print(\"Você deve inserir 1 para ensino fundamental, ou 2 para ensino médio. \")\n",
    "        nivel = input(\"Qual o nível dos conceitos matemáticos? \")\n",
    "    print(\" \")\n",
    "    \n",
    "    return nivel"
   ]
  },
  {
   "cell_type": "code",
   "execution_count": 4,
   "id": "2a8bccce",
   "metadata": {},
   "outputs": [],
   "source": [
    "def list_conceitos(nivel):\n",
    "    e_fund = [\n",
    "        [\"Triângulo equilátero\", \"Triângulo retângulo\"],\n",
    "        [\"Ângulo agudo\", \"Ângulo reto\"],\n",
    "        [\"Hexágono\", \"Ângulo obtuso\"],\n",
    "        [\"Paralelogramo\", \"Trapézio\"],\n",
    "        [\"Paralelepípedo\", \"Cubo\"],\n",
    "        [\"Vértice do cubo\", \"Face do cubo\"],\n",
    "        [\"Área da circunferência\", \"Perímetro da circunferência\"],\n",
    "        [\"Razão e proporção\", \"Soma de frações\"]\n",
    "    ]\n",
    "    \n",
    "    e_med = [\n",
    "        [\"Seno\", \"Teorema de pitágoras\"],\n",
    "        [\"Baricentro\", \"Bissetriz\"],\n",
    "        [\"Quadrado circunscrito\", \"Triângulo circunscrito\"],\n",
    "        [\"Intersecção de conjuntos\", \"União de Conjuntos\"],\n",
    "        [\"Função módulo\", \"Função afim\"],\n",
    "        [\"Fórmula de Bhaskara\", \"Função quadrática\"],\n",
    "        [\"Função quadrática\", \"Função seno\"],\n",
    "        [\"Função quadrática\", \"Função exponencial\"],\n",
    "        [\"Logaritmo\", \"Exponencial\"],\n",
    "        [\"Equação da circunferência\", \"Círculo trigonométrico\"],\n",
    "        [\"Matriz triangular superior\", \"Matriz identidade\"]\n",
    "    ]\n",
    "    \n",
    "    if nivel == 1:\n",
    "        lista = e_fund\n",
    "    elif nivel == 2:\n",
    "        lista = e_med\n",
    "        \n",
    "    return lista"
   ]
  },
  {
   "cell_type": "code",
   "execution_count": 5,
   "id": "1882b3a0",
   "metadata": {},
   "outputs": [],
   "source": [
    "def aumentar_lista(lst, n):\n",
    "    num_repeat = n - len(lst)  \n",
    "    \n",
    "    if num_repeat > 0:\n",
    "        lst.extend([lst[1]] * num_repeat) \n",
    "    \n",
    "    return lst"
   ]
  },
  {
   "cell_type": "code",
   "execution_count": 6,
   "id": "b7189f0e",
   "metadata": {},
   "outputs": [],
   "source": [
    "def Impostor():\n",
    "    n = n_jogadores()\n",
    "    \n",
    "    nivel = nivel_conceitos()\n",
    "    nivel = int(nivel)\n",
    "        \n",
    "    list_nivel = list_conceitos(nivel)\n",
    "    \n",
    "    partida = rd.choices(list_nivel)\n",
    "                         \n",
    "    partida = aumentar_lista(partida[0], n)\n",
    "    \n",
    "    rd.shuffle(partida)\n",
    "    \n",
    "    for i in range(n):\n",
    "        print(f\"O conceito do jogador {i+1} é: {partida[i]}.\")\n",
    "    "
   ]
  },
  {
   "cell_type": "code",
   "execution_count": null,
   "id": "b8c363de",
   "metadata": {},
   "outputs": [],
   "source": [
    "Impostor()"
   ]
  }
 ],
 "metadata": {
  "kernelspec": {
   "display_name": "ilumpy",
   "language": "python",
   "name": "ilumpy"
  },
  "language_info": {
   "codemirror_mode": {
    "name": "ipython",
    "version": 3
   },
   "file_extension": ".py",
   "mimetype": "text/x-python",
   "name": "python",
   "nbconvert_exporter": "python",
   "pygments_lexer": "ipython3",
   "version": "3.11.6"
  }
 },
 "nbformat": 4,
 "nbformat_minor": 5
}
